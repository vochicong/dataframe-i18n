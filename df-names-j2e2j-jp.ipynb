{
  "cells": [
    {
      "cell_type": "markdown",
      "metadata": {
        "id": "NIjY3la9Z-1k"
      },
      "source": [
        "# データ分析や機械学習における日本語の変数名の取り扱い\n",
        "\n",
        "ビジネス関連のデータセットの列名が日本語になっていますよね。\n",
        "どのようにして日本語ができないチームメンバーと、**効率的**に連携しながら\n",
        "データ分析業務を行っていきますか。\n",
        "**効率的**とは、お互いのソースコードを読めたり、\n",
        "特徴量名・変数名について意思疎通ができたりする\n",
        "ということです。\n",
        "\n",
        "> 取り上げている「日本語」はあくまでも、プロジェクトメンバー全員が精通しているわけではない、とある自然言語を象徴しているのに過ぎません。\n",
        "> 中国語や韓国語などに読み替えても問題ありません。\n",
        "\n",
        "東京 2021/11/23, Vo Chi Cong\n",
        "\n",
        "国際的なデータ分析・機械学習チームに所属しながら、業務で当然のように日本語の変数名を使っていませんか。\n",
        "お客様が日本企業ならば、データセットの列名が日本語になっていることがほとんどです。\n",
        "これらの列名がそのまま特徴量の名前、いわゆる説明変数の名前として扱われることが多く見られます。\n",
        "このままだと、専門性の高い外国人データアナリスト、データエンジニア、データサイエンティストの\n",
        "プロジェクト参画の障害になりかねません。\n",
        "\n",
        "また、お客様企業から更新データが提供されるたびに、または他システムからデータが連携されてくるたびに、\n",
        "列名が時に変わっていませんか。どうしたら、前処理の工程で列名変更を吸収し、\n",
        "後続の分析・学習・予測行程に影響が及ばないようにできるのでしょうか。\n",
        "\n",
        "最後に、納品や報告用の資料にはどうしたら、正確な特徴量名称を適用することができるのでしょうか。\n",
        "この正確性は、プロジェクトでの取り決めによるもので、プロジェクトの進行中に特徴量の名称が\n",
        "幾度変更されても、最終的には、最新のルールに従って表示する必要があります。\n",
        "\n",
        "# 日本語変数名の問題点\n",
        "\n",
        "日本語変数名をそのまま直接使う場合に生じうる問題点を具体的に見ていきましょう。\n",
        "\n",
        "簡単な例として、「名」と「歳」とい2つだけの列からなる個人情報テーブル（西遊記の中心人物)\n",
        "`df_in` があるとします。"
      ]
    },
    {
      "cell_type": "code",
      "execution_count": 1,
      "metadata": {
        "id": "RY5IjXyYcTG4"
      },
      "outputs": [],
      "source": [
        "from IPython.core.interactiveshell import InteractiveShell\n",
        "InteractiveShell.ast_node_interactivity = \"last_expr_or_assign\"\n",
        "import pandas as pd"
      ]
    },
    {
      "cell_type": "code",
      "execution_count": 3,
      "metadata": {
        "colab": {
          "background_save": true
        },
        "id": "525fM7_hb-ff"
      },
      "outputs": [
        {
          "data": {
            "text/html": [
              "<div>\n",
              "<style scoped>\n",
              "    .dataframe tbody tr th:only-of-type {\n",
              "        vertical-align: middle;\n",
              "    }\n",
              "\n",
              "    .dataframe tbody tr th {\n",
              "        vertical-align: top;\n",
              "    }\n",
              "\n",
              "    .dataframe thead th {\n",
              "        text-align: right;\n",
              "    }\n",
              "</style>\n",
              "<table border=\"1\" class=\"dataframe\">\n",
              "  <thead>\n",
              "    <tr style=\"text-align: right;\">\n",
              "      <th></th>\n",
              "      <th>名</th>\n",
              "      <th>歳</th>\n",
              "    </tr>\n",
              "  </thead>\n",
              "  <tbody>\n",
              "    <tr>\n",
              "      <th>0</th>\n",
              "      <td>孫 悟空</td>\n",
              "      <td>22</td>\n",
              "    </tr>\n",
              "    <tr>\n",
              "      <th>1</th>\n",
              "      <td>猪 八戒</td>\n",
              "      <td>19</td>\n",
              "    </tr>\n",
              "    <tr>\n",
              "      <th>2</th>\n",
              "      <td>沙 悟浄</td>\n",
              "      <td>18</td>\n",
              "    </tr>\n",
              "    <tr>\n",
              "      <th>3</th>\n",
              "      <td>玄奘 三蔵</td>\n",
              "      <td>30</td>\n",
              "    </tr>\n",
              "  </tbody>\n",
              "</table>\n",
              "</div>"
            ],
            "text/plain": [
              "       名   歳\n",
              "0   孫 悟空  22\n",
              "1   猪 八戒  19\n",
              "2   沙 悟浄  18\n",
              "3  玄奘 三蔵  30"
            ]
          },
          "execution_count": 3,
          "metadata": {},
          "output_type": "execute_result"
        }
      ],
      "source": [
        "df_in = pd.DataFrame(dict(名 = [\"孫 悟空\", \"猪 八戒\", \"沙 悟浄\", \"玄奘 三蔵\"], 歳 = [22, 19, 18, 30]))"
      ]
    },
    {
      "cell_type": "markdown",
      "metadata": {
        "id": "uIi2oQoja6e-"
      },
      "source": [
        "# 日本語の変数名を使う問題点"
      ]
    }
  ],
  "metadata": {
    "colab": {
      "collapsed_sections": [],
      "name": "df-names-j2e2j-jp.ipynb",
      "provenance": []
    },
    "kernelspec": {
      "display_name": "Python 3",
      "name": "python3"
    },
    "language_info": {
      "codemirror_mode": {
        "name": "ipython",
        "version": 3
      },
      "file_extension": ".py",
      "mimetype": "text/x-python",
      "name": "python",
      "nbconvert_exporter": "python",
      "pygments_lexer": "ipython3",
      "version": "3.7.12"
    }
  },
  "nbformat": 4,
  "nbformat_minor": 0
}
