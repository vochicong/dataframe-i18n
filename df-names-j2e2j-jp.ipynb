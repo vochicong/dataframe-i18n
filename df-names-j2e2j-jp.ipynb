{
  "cells": [
    {
      "cell_type": "markdown",
      "metadata": {
        "id": "NIjY3la9Z-1k"
      },
      "source": [
        "# データ分析や機械学習における日本語の変数名の取り扱い\n",
        "\n",
        "ビジネス関連のデータセットの列名が日本語になっていますよね。\n",
        "どのようにして日本語ができないチームメンバーと、**効率的**に連携しながら\n",
        "データ分析業務を行っていきますか。\n",
        "**効率的**とは、お互いのソースコードを読めたり、\n",
        "変数名(以下、特徴量名、列名ともいう）について意思疎通ができたりする\n",
        "ということです。\n",
        "\n",
        "> 取り上げている「日本語」はあくまでも、プロジェクトメンバー全員が精通しているわけではない、とある自然言語を象徴しているのに過ぎません。\n",
        "> 中国語や韓国語などに読み替えても問題ありません。\n",
        "\n",
        "東京 2021/11/23, Vo Chi Cong\n",
        "\n",
        "国際的なデータ分析・機械学習チームに所属しながら、業務で当然のように日本語の変数名を使っていませんか。\n",
        "お客様が日本企業ならば、データセットの列名が日本語になっていることがほとんどです。\n",
        "これらの列名がそのまま特徴量の名前、いわゆる説明変数の名前として扱われることが多く見られます。\n",
        "このままだと、専門性の高い外国人データアナリスト、データエンジニア、データサイエンティストの\n",
        "プロジェクト参画の障害になりかねません。\n",
        "\n",
        "また、お客様企業から更新データが提供されるたびに、または他システムからデータが連携されてくるたびに、\n",
        "列名が時に変わっていませんか。どうしたら、前処理の工程で列名変更を吸収し、\n",
        "後続の分析・学習・予測行程に影響が及ばないようにできるのでしょうか。\n",
        "\n",
        "最後に、納品や報告用の資料にはどうしたら、正確な特徴量名称を適用することができるのでしょうか。\n",
        "この正確性は、プロジェクトでの取り決めによるもので、プロジェクトの進行中に特徴量の名称が\n",
        "幾度変更されても、最終的には、最新のルールに従って表示する必要があります。\n",
        "\n",
        "# 日本語変数名の問題点\n",
        "\n",
        "日本語変数名をそのまま直接使う場合に生じうる問題点を具体的に見ていきましょう。\n",
        "\n",
        "簡単な例として、「名」と「歳」とい2つだけの列からなる個人情報テーブル（西遊記の中心人物)\n",
        "`df_in` があるとします。"
      ]
    },
    {
      "cell_type": "code",
      "execution_count": 1,
      "metadata": {
        "id": "RY5IjXyYcTG4"
      },
      "outputs": [],
      "source": [
        "from IPython.core.interactiveshell import InteractiveShell\n",
        "\n",
        "InteractiveShell.ast_node_interactivity = \"last_expr_or_assign\"\n",
        "import pandas as pd\n"
      ]
    },
    {
      "cell_type": "code",
      "execution_count": 2,
      "metadata": {
        "colab": {
          "background_save": true
        },
        "id": "525fM7_hb-ff"
      },
      "outputs": [
        {
          "data": {
            "text/html": [
              "<div>\n",
              "<style scoped>\n",
              "    .dataframe tbody tr th:only-of-type {\n",
              "        vertical-align: middle;\n",
              "    }\n",
              "\n",
              "    .dataframe tbody tr th {\n",
              "        vertical-align: top;\n",
              "    }\n",
              "\n",
              "    .dataframe thead th {\n",
              "        text-align: right;\n",
              "    }\n",
              "</style>\n",
              "<table border=\"1\" class=\"dataframe\">\n",
              "  <thead>\n",
              "    <tr style=\"text-align: right;\">\n",
              "      <th></th>\n",
              "      <th>名</th>\n",
              "      <th>歳</th>\n",
              "    </tr>\n",
              "  </thead>\n",
              "  <tbody>\n",
              "    <tr>\n",
              "      <th>0</th>\n",
              "      <td>孫 悟空</td>\n",
              "      <td>22</td>\n",
              "    </tr>\n",
              "    <tr>\n",
              "      <th>1</th>\n",
              "      <td>猪 八戒</td>\n",
              "      <td>19</td>\n",
              "    </tr>\n",
              "    <tr>\n",
              "      <th>2</th>\n",
              "      <td>沙 悟浄</td>\n",
              "      <td>18</td>\n",
              "    </tr>\n",
              "    <tr>\n",
              "      <th>3</th>\n",
              "      <td>玄奘 三蔵</td>\n",
              "      <td>30</td>\n",
              "    </tr>\n",
              "  </tbody>\n",
              "</table>\n",
              "</div>"
            ],
            "text/plain": [
              "       名   歳\n",
              "0   孫 悟空  22\n",
              "1   猪 八戒  19\n",
              "2   沙 悟浄  18\n",
              "3  玄奘 三蔵  30"
            ]
          },
          "execution_count": 2,
          "metadata": {},
          "output_type": "execute_result"
        }
      ],
      "source": [
        "df_in = pd.DataFrame(dict(名=[\"孫 悟空\", \"猪 八戒\", \"沙 悟浄\", \"玄奘 三蔵\"], 歳=[22, 19, 18, 30]))\n"
      ]
    },
    {
      "cell_type": "markdown",
      "metadata": {
        "id": "uIi2oQoja6e-"
      },
      "source": [
        "わくわくしてすぐにでもデータ分析(EDA)に取り掛かる衝動に駆られていませんか。\n",
        "しかしそうすると、「名」や「歳」（実案件では、沢山の日本語列名）を含んだソースコードが瞬く間に急速に記述されていきます。\n",
        "私は、うんざりするほど何度も日本語の特徴量名が大量に散りばめられたJupyterノートブックを目にしてきました。\n",
        "何を隠そう、自分自身もそのようなノートブックの作者の一人でした。\n",
        "\n",
        "しかし、問題はすぐに顕在化してきます。\n",
        "\n",
        "1. 日本語の変数名が点在するソースコードは、見苦しく、読み解きづらい。まして、日本語ができないメンバーには、実に読めない。\n",
        "Google翻訳を使って読みなさいという馬鹿なアドバイスも遠くからかすかに聞こえてきそうですが、\n",
        "変数名を翻訳しながらプログラムを読むことはあり得ないのでパスです。\n",
        "2. まともにプログラムを書く人、またはその段階になった時の人は、キーボードで日本語変換をオンにして変数を呼び出すことを嫌がり、\n",
        "基本的に英語（英数字）でプログラムを書きたがります。なお、各種開発環境やエディタのコード補完機能は、基本的に英数字以外の変数名はサポートしないはずです。\n",
        "3. 日本語の曖昧性は、特徴量名に現れることがあります。冗長な特徴量名が付けられることもあります。\n",
        "すなわち、もともと良くない特徴量名が付けられることがあって、日本語ができる人でも何の特徴量なのか\n",
        "簡単に理解できません。"
      ]
    },
    {
      "cell_type": "markdown",
      "metadata": {},
      "source": [
        "# 英語名で正規化\n",
        "\n",
        "上記の問題を回避するために、前処理の一ステップとして、まずは `names_j2e` というようなマッピングを用意して、日本語の列名を一気に英語に変換しましょう。\n",
        "\n",
        "1. このマッピングはプロジェクトで統一的に利用する。特徴量の本質が変わらない限り、英語の列名は原則変更しない。\n",
        "これらの英語名は、データ分析、学習、予測の行程を通して一貫して利用する。\n",
        "2. 表記の揺らぎを認め、複数の日本語名称を1つの英語名称にマッピングするケースもある。\n",
        "プロジェクト進行中に、日本語の列名が変わることもあるし、複数のテーブルにおいて、ある特徴量が複数の名称で参照されていることも少なくない。\n",
        "そのようなケースでも、1つだけの英語名称で正規化する。"
      ]
    },
    {
      "cell_type": "code",
      "execution_count": 3,
      "metadata": {},
      "outputs": [
        {
          "data": {
            "text/plain": [
              "OrderedDict([('フルネーム', 'full_name'),\n",
              "             ('名', 'full_name'),\n",
              "             ('氏名', 'full_name'),\n",
              "             ('歳', 'age'),\n",
              "             ('年齢', 'age')])"
            ]
          },
          "execution_count": 3,
          "metadata": {},
          "output_type": "execute_result"
        }
      ],
      "source": [
        "from collections import OrderedDict\n",
        "\n",
        "names_j2e = OrderedDict(\n",
        "    フルネーム=\"full_name\",\n",
        "    名=\"full_name\",\n",
        "    氏名=\"full_name\",\n",
        "    歳=\"age\",\n",
        "    年齢=\"age\",\n",
        ")\n"
      ]
    },
    {
      "cell_type": "code",
      "execution_count": 4,
      "metadata": {},
      "outputs": [],
      "source": [
        "def rename_j2e(df: pd.DataFrame) -> pd.DataFrame:\n",
        "    return df.rename(columns=names_j2e)\n"
      ]
    },
    {
      "cell_type": "markdown",
      "metadata": {},
      "source": [
        "前処理で `df_work` というような、英語列名のデータフレームを作り、これでデータ分析、機械学習、予測処理を行っていくわけです。\n",
        "列名が英語になったので、多国籍メンバの間で会話が捗り、コーディングもスピードアップします。\n",
        "日本語の名称が変わっても、前処理のステップでマッピングの変更によって吸収できるので、\n",
        "重要な後続行程に影響を及ぼさないで済みます。"
      ]
    },
    {
      "cell_type": "code",
      "execution_count": 5,
      "metadata": {},
      "outputs": [
        {
          "data": {
            "text/html": [
              "<div>\n",
              "<style scoped>\n",
              "    .dataframe tbody tr th:only-of-type {\n",
              "        vertical-align: middle;\n",
              "    }\n",
              "\n",
              "    .dataframe tbody tr th {\n",
              "        vertical-align: top;\n",
              "    }\n",
              "\n",
              "    .dataframe thead th {\n",
              "        text-align: right;\n",
              "    }\n",
              "</style>\n",
              "<table border=\"1\" class=\"dataframe\">\n",
              "  <thead>\n",
              "    <tr style=\"text-align: right;\">\n",
              "      <th></th>\n",
              "      <th>full_name</th>\n",
              "      <th>age</th>\n",
              "    </tr>\n",
              "  </thead>\n",
              "  <tbody>\n",
              "    <tr>\n",
              "      <th>0</th>\n",
              "      <td>孫 悟空</td>\n",
              "      <td>22</td>\n",
              "    </tr>\n",
              "    <tr>\n",
              "      <th>1</th>\n",
              "      <td>猪 八戒</td>\n",
              "      <td>19</td>\n",
              "    </tr>\n",
              "    <tr>\n",
              "      <th>2</th>\n",
              "      <td>沙 悟浄</td>\n",
              "      <td>18</td>\n",
              "    </tr>\n",
              "    <tr>\n",
              "      <th>3</th>\n",
              "      <td>玄奘 三蔵</td>\n",
              "      <td>30</td>\n",
              "    </tr>\n",
              "  </tbody>\n",
              "</table>\n",
              "</div>"
            ],
            "text/plain": [
              "  full_name  age\n",
              "0      孫 悟空   22\n",
              "1      猪 八戒   19\n",
              "2      沙 悟浄   18\n",
              "3     玄奘 三蔵   30"
            ]
          },
          "execution_count": 5,
          "metadata": {},
          "output_type": "execute_result"
        }
      ],
      "source": [
        "df_work = rename_j2e(df_in)\n"
      ]
    },
    {
      "cell_type": "markdown",
      "metadata": {},
      "source": [
        "# 日本語の変数名でレポーティング\n",
        "\n",
        "やはり、日本のお客様に対しては、報告書における変数名は日本語でないといけません。\n",
        "更に、その変数名は、プロジェクトの最新ルールに従う必要があります。\n",
        "つまり、たとえ入力データセットの列名に揺らぎがあったり、間違いがあったりしても、\n",
        "出力レポートにおいては、最後に決められた正しい名称表記を\n",
        "柔軟に適用しなければなりません。\n",
        "\n",
        "プロジェクトチームが使っている変数の英語名称を正確にレポート用の日本語に変換するためには、\n",
        "`names_e2j` というような変換規則が必要です。\n",
        "このマッピングは、 前述の `names_j2e` から割り出すのですが、\n",
        "最終的に正しい日本語名称へのマッピング情報だけを保持します。"
      ]
    },
    {
      "cell_type": "code",
      "execution_count": 6,
      "metadata": {},
      "outputs": [
        {
          "data": {
            "text/plain": [
              "OrderedDict([('full_name', '氏名'), ('age', '年齢')])"
            ]
          },
          "execution_count": 6,
          "metadata": {},
          "output_type": "execute_result"
        }
      ],
      "source": [
        "names_e2j = OrderedDict({v: k for k, v in names_j2e.items()})\n"
      ]
    },
    {
      "cell_type": "code",
      "execution_count": 7,
      "metadata": {},
      "outputs": [],
      "source": [
        "def rename_e2j(df: pd.DataFrame) -> pd.DataFrame:\n",
        "    return df.rename(columns=names_e2j)\n"
      ]
    },
    {
      "cell_type": "code",
      "execution_count": 8,
      "metadata": {},
      "outputs": [
        {
          "data": {
            "text/html": [
              "<div>\n",
              "<style scoped>\n",
              "    .dataframe tbody tr th:only-of-type {\n",
              "        vertical-align: middle;\n",
              "    }\n",
              "\n",
              "    .dataframe tbody tr th {\n",
              "        vertical-align: top;\n",
              "    }\n",
              "\n",
              "    .dataframe thead th {\n",
              "        text-align: right;\n",
              "    }\n",
              "</style>\n",
              "<table border=\"1\" class=\"dataframe\">\n",
              "  <thead>\n",
              "    <tr style=\"text-align: right;\">\n",
              "      <th></th>\n",
              "      <th>氏名</th>\n",
              "      <th>年齢</th>\n",
              "    </tr>\n",
              "  </thead>\n",
              "  <tbody>\n",
              "    <tr>\n",
              "      <th>0</th>\n",
              "      <td>孫 悟空</td>\n",
              "      <td>22</td>\n",
              "    </tr>\n",
              "    <tr>\n",
              "      <th>1</th>\n",
              "      <td>猪 八戒</td>\n",
              "      <td>19</td>\n",
              "    </tr>\n",
              "    <tr>\n",
              "      <th>2</th>\n",
              "      <td>沙 悟浄</td>\n",
              "      <td>18</td>\n",
              "    </tr>\n",
              "    <tr>\n",
              "      <th>3</th>\n",
              "      <td>玄奘 三蔵</td>\n",
              "      <td>30</td>\n",
              "    </tr>\n",
              "  </tbody>\n",
              "</table>\n",
              "</div>"
            ],
            "text/plain": [
              "      氏名  年齢\n",
              "0   孫 悟空  22\n",
              "1   猪 八戒  19\n",
              "2   沙 悟浄  18\n",
              "3  玄奘 三蔵  30"
            ]
          },
          "execution_count": 8,
          "metadata": {},
          "output_type": "execute_result"
        }
      ],
      "source": [
        "df_out = rename_e2j(df_work)\n"
      ]
    },
    {
      "cell_type": "markdown",
      "metadata": {},
      "source": [
        "# まとめ\n",
        "\n",
        "国際的なデータ分析・機械学習チームで日本語の列名を扱う段取りを次のように提案します。\n",
        "\n",
        "1. 前処理で、日本語の列名を英語に変換し、揺らぎを吸収し、統一的に正規化します。\n",
        "2. データ分析、学習、予測では、英語の列名を一貫性をもって利用します。\n",
        "3. 報告、納品用のデータは、作業成果データの列名を英語から正規な日本語名称に変換します。\n",
        "\n",
        "参考リンク\n",
        "\n",
        "- [Tên biến tiếng Nhật trong phân tích dữ liệu và học máy](t.ly/AgAv) (ベトナム語)\n",
        "- Julia と Python の [sample code](https://github.com/vochicong/dataframe-i18n)"
      ]
    }
  ],
  "metadata": {
    "colab": {
      "collapsed_sections": [],
      "name": "df-names-j2e2j-jp.ipynb",
      "provenance": []
    },
    "kernelspec": {
      "display_name": "Python 3",
      "name": "python3"
    },
    "language_info": {
      "codemirror_mode": {
        "name": "ipython",
        "version": 3
      },
      "file_extension": ".py",
      "mimetype": "text/x-python",
      "name": "python",
      "nbconvert_exporter": "python",
      "pygments_lexer": "ipython3",
      "version": "3.7.12"
    }
  },
  "nbformat": 4,
  "nbformat_minor": 0
}
